{
 "cells": [
  {
   "cell_type": "markdown",
   "id": "063d7512-1f4e-4d2c-a54a-022ec353edef",
   "metadata": {},
   "source": [
    "# SOK-1006 V24\n",
    "\n",
    "## Forelesning 12 - Mer om kostnadsminimering"
   ]
  },
  {
   "cell_type": "markdown",
   "id": "9e267346-2e73-423a-8c4e-341b00381d6c",
   "metadata": {},
   "source": [
    "### 1. Oppskrift for kostnadsminimering\n",
    "\n",
    "Vi ser på en bedrift som bruker arbeidskraft og kapital til å produsere et gode gjennom bruk av følgende teknologi: $x=f(N,K)$. Da kan vi skrive kostnadsminimeringsproblemet som:        \n",
    "$$ min_{N,K}\\;wN+rK \\;\\; ubb\\;\\; x_0=f(N,K).$$\n",
    "\n",
    "Vi har oppdaget at to ting må være oppfylt for å finne verdier på $N,K$ som gir et kostnadsminimum:\n",
    "\n",
    "$$\\begin{align}\n",
    "\\frac{w}{r}&=\\frac{f'_N}{f'_K} \\tag{1}\\\\\n",
    "x_0 &=f(N,K) \\tag {2}\\\\\n",
    "\\end{align}$$\n",
    "\n",
    "La oss bruke disse betingelsene i et eksempel hvor $f(N,K)=N^{0.5}K^{0.5}, w=350, r=500, x_0=10.$\n",
    "\n"
   ]
  },
  {
   "cell_type": "code",
   "execution_count": 55,
   "id": "8d94837b-dc44-42b1-aad0-eb49cebdd396",
   "metadata": {},
   "outputs": [],
   "source": [
    "import numpy as np\n",
    "from matplotlib import pyplot as plt\n",
    "import sympy as sp"
   ]
  },
  {
   "cell_type": "code",
   "execution_count": 56,
   "id": "7283f1a3-a54e-4a2f-b764-30545b1e0e25",
   "metadata": {},
   "outputs": [],
   "source": [
    "N,K=sp.symbols('N K', real=True, positive=True)"
   ]
  },
  {
   "cell_type": "code",
   "execution_count": 57,
   "id": "b97034e2-9ff7-43c4-8d1e-caaf2e9b1746",
   "metadata": {},
   "outputs": [
    {
     "data": {
      "text/latex": [
       "$\\displaystyle K^{0.5} N^{0.5}$"
      ],
      "text/plain": [
       "K**0.5*N**0.5"
      ]
     },
     "execution_count": 57,
     "metadata": {},
     "output_type": "execute_result"
    }
   ],
   "source": [
    "# produktfunksjon\n",
    "def x(N,K):\n",
    "    return (N**.5)*(K**.5)\n",
    "x(N,K)"
   ]
  },
  {
   "cell_type": "code",
   "execution_count": 58,
   "id": "388e992f-fe74-4c56-ad07-c965fac3fd93",
   "metadata": {},
   "outputs": [
    {
     "data": {
      "text/latex": [
       "$\\displaystyle \\frac{1.0 K^{1.0}}{N^{1.0}}$"
      ],
      "text/plain": [
       "1.0*K**1.0/N**1.0"
      ]
     },
     "metadata": {},
     "output_type": "display_data"
    }
   ],
   "source": [
    "# likning 1, mtsb\n",
    "df_K=sp.diff(x(N,K),K)\n",
    "df_N=sp.diff(x(N,K),N)\n",
    "mtsb=df_N/df_K\n",
    "display(mtsb)\n"
   ]
  },
  {
   "cell_type": "markdown",
   "id": "dde4ccfd-dc9b-4609-9686-e8b7a55f146a",
   "metadata": {},
   "source": [
    "Da kan likning (1) skrives $\\frac{350}{500}=\\frac{K}{N}$, eller $K=\\frac{350}{500}N$. Dette kan vi sette inn i likning (2) for å sikre at den optimale kombinasjonen tilfredsstiller produksjonsbetingelsen."
   ]
  },
  {
   "cell_type": "code",
   "execution_count": 59,
   "id": "6da8fce5-eee1-4261-aeea-84cfaee75b1b",
   "metadata": {},
   "outputs": [
    {
     "data": {
      "text/latex": [
       "$\\displaystyle 0.836660026534076 N^{1.0}$"
      ],
      "text/plain": [
       "0.836660026534076*N**1.0"
      ]
     },
     "metadata": {},
     "output_type": "display_data"
    }
   ],
   "source": [
    "prod=x(N,K).subs(K, 350*N/500)\n",
    "display(prod)"
   ]
  },
  {
   "cell_type": "code",
   "execution_count": 60,
   "id": "883e4736-5378-49d0-a9e2-c1fe94bba968",
   "metadata": {},
   "outputs": [
    {
     "data": {
      "text/plain": [
       "[11.9522860933439]"
      ]
     },
     "metadata": {},
     "output_type": "display_data"
    }
   ],
   "source": [
    "# finn optimal verdi på N\n",
    "opt_N = sp.solve(prod-10, N)\n",
    "display(opt_N)"
   ]
  },
  {
   "cell_type": "markdown",
   "id": "4e627847-b45d-4bbc-86e0-dbada6bd33c0",
   "metadata": {},
   "source": [
    "Dette er optimal mengde arbeidskraft! Optimal mengde kapital blir da $K=\\frac{350}{500}(11.95)=8.365$. Da har vi funnet mengder arbeidskraft og kapital som minimerer produksjonskostnaden på 10 enheter. Tenk at vi vil løse problemet for et vilkårlig produksjonsnivå $X$. Da løser vi følgende:"
   ]
  },
  {
   "cell_type": "code",
   "execution_count": 61,
   "id": "6cf4a8da-082b-449b-b67f-80679fc3684f",
   "metadata": {},
   "outputs": [
    {
     "data": {
      "text/plain": [
       "[(0.836660026534076*X, 1.19522860933439*X)]"
      ]
     },
     "execution_count": 61,
     "metadata": {},
     "output_type": "execute_result"
    }
   ],
   "source": [
    "X=sp.symbols('X', positive=True, real=True)\n",
    "løsn_X=sp.solve([x(N,K)-X, K-(350/500)*N], K,N)\n",
    "løsn_X"
   ]
  },
  {
   "cell_type": "markdown",
   "id": "1de59264-b5fc-4c00-82f0-b59be9aa6a4f",
   "metadata": {},
   "source": [
    "Dette er den optimale tilpasningen for å produsere X enheter: $K=0.8367X, N=1.1952X$. Legg merke til at løsningen er ei liste, dvs i [....]. I lista har vi en tuple i (......). For å trekke ut løsningen for K skriver vi `løsn_X[0][0]`, og løsningen for N blir `løsn_X[0][1]`. Dermed kan vi beregne kostnaden for å produsere X enheter."
   ]
  },
  {
   "cell_type": "code",
   "execution_count": 78,
   "id": "8a789889-10d6-4942-b4f0-42b9210322d8",
   "metadata": {},
   "outputs": [
    {
     "data": {
      "text/latex": [
       "$\\displaystyle 836.660026534076 X$"
      ],
      "text/plain": [
       "836.660026534076*X"
      ]
     },
     "execution_count": 78,
     "metadata": {},
     "output_type": "execute_result"
    }
   ],
   "source": [
    "def var_kost(X):\n",
    "    return 500*løsn_X[0][0]+350*løsn_X[0][1]\n",
    "var_kost(X)"
   ]
  },
  {
   "cell_type": "markdown",
   "id": "2783ffcd-0958-43a3-bea9-e9c3aa894e6f",
   "metadata": {},
   "source": [
    "Dette viser den minimale kostnaden av å produsere X enheter. Vi vil vise løsningen som vi har funnet grafisk. **Nå må vi passe på**. I definisjonen av `var_kost(X)` brukte vi løsningen fra en Sympy beregning. For at vi skal bruke den i tegningen kan vi gjøre om med `sp.lambdify`:"
   ]
  },
  {
   "cell_type": "code",
   "execution_count": 70,
   "id": "60e23897-62af-4938-8210-58ab9a8440d4",
   "metadata": {},
   "outputs": [
    {
     "data": {
      "text/latex": [
       "$\\displaystyle 836.660026534076 X$"
      ],
      "text/plain": [
       "836.660026534076*X"
      ]
     },
     "execution_count": 70,
     "metadata": {},
     "output_type": "execute_result"
    }
   ],
   "source": [
    "C_X=sp.lambdify(\n",
    "    (X), \n",
    "    var_kost(X)\n",
    ")\n",
    "C_X(X)"
   ]
  },
  {
   "cell_type": "markdown",
   "id": "de85da4c-cb02-4dbc-8443-00d73c90064c",
   "metadata": {},
   "source": [
    "Først tegner vi produksjonsisokvanten for $X=10$."
   ]
  },
  {
   "cell_type": "code",
   "execution_count": 72,
   "id": "52a4eb11-6b99-434e-9eaa-6ae066a7332a",
   "metadata": {},
   "outputs": [
    {
     "data": {
      "text/latex": [
       "$\\displaystyle \\frac{X^{2}}{N}$"
      ],
      "text/plain": [
       "X**2/N"
      ]
     },
     "execution_count": 72,
     "metadata": {},
     "output_type": "execute_result"
    }
   ],
   "source": [
    "# Definer isokvanter\n",
    "iso_X=sp.solve(x(N,K)-X,K)[0]\n",
    "iso_X"
   ]
  },
  {
   "cell_type": "markdown",
   "id": "5923bff7-ad79-49bd-be49-a5a3145b7d6f",
   "metadata": {},
   "source": [
    "Da er $K=\\frac{X^2}{N}$ isokvanten for X enheter ferdigprodukt. Vi må gjøre dette om til et uttrykk som numpy kjenner igjen for å tegne det (`sp.lambdify`):"
   ]
  },
  {
   "cell_type": "code",
   "execution_count": 73,
   "id": "488aa39b-d377-486d-8062-33bf05c55da7",
   "metadata": {},
   "outputs": [
    {
     "data": {
      "text/latex": [
       "$\\displaystyle \\frac{X^{2}}{N}$"
      ],
      "text/plain": [
       "X**2/N"
      ]
     },
     "execution_count": 73,
     "metadata": {},
     "output_type": "execute_result"
    }
   ],
   "source": [
    "iso_fn=sp.lambdify(\n",
    "    (X,N), \n",
    "    iso_X\n",
    ")\n",
    "iso_fn(X,N)"
   ]
  },
  {
   "cell_type": "code",
   "execution_count": 74,
   "id": "6855e72f-b07a-46c3-8e2f-c05d659f85b0",
   "metadata": {},
   "outputs": [
    {
     "data": {
      "image/png": "[encoded data removed]",
      "text/plain": [
       "<Figure size 640x480 with 1 Axes>"
      ]
     },
     "metadata": {},
     "output_type": "display_data"
    }
   ],
   "source": [
    "# tegne isokvanten for X=10\n",
    "\n",
    "n=np.linspace(0.001,75, 100)\n",
    "\n",
    "fig1, ax = plt.subplots()\n",
    "ax.set_ylabel('Kapital (K)', loc='top', rotation = 0)\n",
    "ax.set_xlabel('Arbeidskraft (N)', loc='right')\n",
    "ax.set(xlim=(0,75))\n",
    "ax.set(ylim=(0,100))\n",
    "ax.spines['top'].set_color('none')\n",
    "ax.spines['right'].set_color('none')\n",
    "                \n",
    "\n",
    "# plott funksjonen\n",
    "\n",
    "ax.plot(n,iso_fn(10,n), label='X=10')\n",
    "\n",
    "# tittel\n",
    "ax.set_title('Kostnadsminimering')\n",
    "\n",
    "#vis navnene:\n",
    "ax.legend(loc='best',frameon=False);"
   ]
  },
  {
   "cell_type": "markdown",
   "id": "f6b15957-83fd-4cd7-a6fa-af97a6367f0f",
   "metadata": {},
   "source": [
    "Tegne inn isokostnadskurver. For et pengebeløp C vil isokostnadsfunksjon være: $C=wN+rK$. For å tegne dette i figuren må vi få K på venstresiden: $K=\\frac{C}{r}-\\frac{wN}{r}$. Dette er en rett linje med helning $\\frac{-w}{r}$. Her er $\\frac{w}{r}$ den relative prisen på arbeidskraft."
   ]
  },
  {
   "cell_type": "code",
   "execution_count": 75,
   "id": "67379d5c-2c64-4537-8dae-7d995b87caa8",
   "metadata": {},
   "outputs": [
    {
     "data": {
      "text/latex": [
       "$\\displaystyle - 0.7 N + 1.67332005306815 X$"
      ],
      "text/plain": [
       "-0.7*N + 1.67332005306815*X"
      ]
     },
     "execution_count": 75,
     "metadata": {},
     "output_type": "execute_result"
    }
   ],
   "source": [
    "# Sett inn i uttrykket for isokost\n",
    "def isokost(X,N):\n",
    "    return C_X(X)/500 -(350/500)*N\n",
    "isokost(X,N)"
   ]
  },
  {
   "cell_type": "code",
   "execution_count": 76,
   "id": "0b6349c3-b224-44ae-944e-5fcb32d7bcdc",
   "metadata": {},
   "outputs": [
    {
     "data": {
      "image/png": "[encoded data removed]",
      "text/plain": [
       "<Figure size 640x480 with 1 Axes>"
      ]
     },
     "execution_count": 76,
     "metadata": {},
     "output_type": "execute_result"
    }
   ],
   "source": [
    "ax.plot(n, isokost(10,n), label=r'$C_{10}$')\n",
    "ax.legend(loc='best',frameon=False)\n",
    "fig1"
   ]
  },
  {
   "cell_type": "code",
   "execution_count": 77,
   "id": "28f6ff4c-0f1b-4e94-8b94-563de258afe6",
   "metadata": {},
   "outputs": [
    {
     "data": {
      "image/png": "[encoded data removed]",
      "text/plain": [
       "<Figure size 640x480 with 1 Axes>"
      ]
     },
     "execution_count": 77,
     "metadata": {},
     "output_type": "execute_result"
    }
   ],
   "source": [
    "# sett inn isokvanter for X=30 og X=50, samt minkost for disse\n",
    "\n",
    "X_verdier = [30, 50]\n",
    "\n",
    "for X in X_verdier:\n",
    "    ax.plot(n, isokost(X,n), label='$C_{' + str(X) + '}$')\n",
    "    ax.plot(n,iso_fn(X,n), label=f'X={X}')\n",
    "\n",
    "ax.legend(loc='best',frameon=False)\n",
    "fig1\n"
   ]
  },
  {
   "cell_type": "markdown",
   "id": "4731dabb-94fc-4083-8b49-7b0df66363cf",
   "metadata": {},
   "source": [
    "Tidligere fant vi et fast forhold mellom kapital og arbeidskraft i en kostnadsminimerende løsning: $K=\\frac{w}{r}N$. Dette kalles *substitumalen* og går gjennom alle kostnadsminimerende punkter."
   ]
  },
  {
   "cell_type": "code",
   "execution_count": null,
   "id": "79e1a0f1-9880-4ca5-b608-f97aec661cf5",
   "metadata": {},
   "outputs": [],
   "source": [
    "def substitumal(w,r,N):\n",
    "    return N*w/r\n",
    "ax.plot(n,substitumal(350,500,n),  color='black', label='substitumal')\n",
    "ax.legend(loc='best',frameon=False)\n",
    "fig1"
   ]
  },
  {
   "cell_type": "markdown",
   "id": "86720aaa-9c5f-46f4-8d8a-af4e4b3c1753",
   "metadata": {},
   "source": [
    "**Oppgave**      \n",
    "*I tillegg til faktorkostnaden har denne bedriften en fast kostnad på 10 000 NOK. Finn et uttrykk for total produksjonskostnad for X enheter produkt. Bruk dette uttrykket til å lage en funksjon som angir gjennomsnittskostnad (AC) på lang sikt. Tegn AC funksjonen ved å sette din funksjonen inn i koden nedenfor:*"
   ]
  },
  {
   "cell_type": "code",
   "execution_count": null,
   "id": "f0aa101f-88cd-4ba3-984e-30f5d813387d",
   "metadata": {},
   "outputs": [],
   "source": [
    "x_num=np.linspace(0.001,100, 100)\n",
    "\n",
    "fig2, ax = plt.subplots()\n",
    "ax.set_ylabel('NOK', loc='top', rotation = 0)\n",
    "ax.set_xlabel('Produserte enheter', loc='right')\n",
    "ax.set(xlim=(0,100))\n",
    "ax.set(ylim=(0,3000))\n",
    "ax.spines['top'].set_color('none')\n",
    "ax.spines['right'].set_color('none')\n",
    "                \n",
    "\n",
    "# plott funksjonen her\n",
    "\n",
    "# ax.plot(x_num,DIN FUNKSJON, label='AC på lang sikt')\n",
    "\n",
    "# tittel\n",
    "ax.set_title('AC på kort og lang sikt')\n",
    "\n",
    "#vis navnene:\n",
    "ax.legend(loc='best',frameon=False);"
   ]
  },
  {
   "cell_type": "markdown",
   "id": "d9692bec-8c8b-46e0-af5c-655dc27c9b0b",
   "metadata": {},
   "source": [
    "**Oppgave fortsetter**      \n",
    "*I forelesning 11 har dere allerede funnet et utrykk for bedriftens totale produksjonskostnad på kort sikt som en funksjon av produsert mengde og kapitalbeholdningen: $C_s(X, K_0)=10000 + 500K_0 +\\frac{350X^2}{K_0}$. Beregn den totale gjennomsnittskostnaden, og plott dette inn i figuren for $K=10, K=25, K=50$ sammen med AC på lang sikt. Bruk figuren til å forklare forholdet mellom gjennomsnittskostnaden på kort og lang sikt.*"
   ]
  },
  {
   "cell_type": "code",
   "execution_count": null,
   "id": "6378bf73-2d5f-496c-85f9-0caddd05d7fb",
   "metadata": {},
   "outputs": [],
   "source": [
    "# skriv ditt svar her\n",
    "\n",
    "ax.legend(loc='best',frameon=False)\n",
    "fig2\n"
   ]
  },
  {
   "cell_type": "markdown",
   "id": "b5ab38e4-7f97-4496-8e20-d30fe528bb42",
   "metadata": {},
   "source": [
    "### 2. Estimering\n",
    "\n",
    "Anta at vi som økonomer tror at bedriften har følgende produktfunksjon: \n",
    "$$x=ZN^aK^b. \\tag{3}$$\n",
    "\n",
    "Ved å bruke fremgangsmåten og koden ovenfor kan vi vise at likning (1) innebærer at $K=(\\frac{w}{r})(\\frac{b}{a})N$. (Legg merke til at det relative forholdet mellom faktorene i en kostnadsminimerende løsning er avhengig av både økonomiske og produksjonstekniske forhold her). Herfra kan vi finne bedriftens etterspørsel etter de to faktorene."
   ]
  },
  {
   "cell_type": "code",
   "execution_count": null,
   "id": "c3538b76-bb2e-401f-890f-f88deafe2097",
   "metadata": {},
   "outputs": [],
   "source": [
    "# angi nye symboler\n",
    "\n",
    "Z,a,b,w,r =sp.symbols('Z a b w r', real=True, positive=True)\n",
    "\n",
    "# produktfunksjon\n",
    "x_0 = Z*N**a*K**b\n",
    "\n",
    "# løs for produksjon av mengde X gitt forholdet ovenfor\n",
    "\n",
    "K_sol=sp.solve(sp.Eq((x_0).subs(N,K*a*r/(b*w)),X),K)[0]\n",
    "N_sol=sp.solve(sp.Eq((x_0).subs(K,N*b*w/(a*r)),X),N)[0]\n",
    "display(K_sol)\n",
    "display(N_sol)"
   ]
  },
  {
   "cell_type": "code",
   "execution_count": null,
   "id": "4e5ba8ce-29ea-4e04-ba88-05d54567a92d",
   "metadata": {},
   "outputs": [],
   "source": [
    "# beregne totalkostnad\n",
    "\n",
    "Kostnad= w*N_sol+r*K_sol\n",
    "display(Kostnad)"
   ]
  },
  {
   "cell_type": "markdown",
   "id": "c8ec5a5b-b9da-4015-976c-b703016e328a",
   "metadata": {},
   "source": [
    "Så langt klarer vi å komme med en teoretisk modell. Som analytikere har vi tilgang til faktorpriser ($w,r$), og vi har muligens data på bedriftens produksjon og faktorforbruk. Vi kan bruke dette for å estimere verdier på det som vi ikke kjenner i produktfunksjon, nemlig $Z, a, b$. Uttrykket i (3) er ikke lineært, og det er enklere å estimere lineære sammenhenger. Da kan vi bruke logaritmer."
   ]
  },
  {
   "cell_type": "code",
   "execution_count": null,
   "id": "ef14e8c6-3b61-4766-921d-46bd1b71ec45",
   "metadata": {},
   "outputs": [],
   "source": [
    "sp.log(x_0).expand(force=True)"
   ]
  },
  {
   "cell_type": "markdown",
   "id": "f397fde7-7b0b-48e2-bebd-951b881be200",
   "metadata": {},
   "source": [
    "Da kan vi skrive (3) om til\n",
    "\n",
    "$$ ln(x)=ln(Z)+a\\;ln(N)+b\\;ln(K)\\tag{4}$$\n",
    "\n",
    "La oss lage litt data som vi kan estimere på."
   ]
  },
  {
   "cell_type": "code",
   "execution_count": null,
   "id": "6e2c6932-cb90-465e-91ec-1eb29b952af2",
   "metadata": {},
   "outputs": [],
   "source": [
    "from numpy import random as rd\n",
    "\n",
    "import statsmodels as sm\n",
    "import pandas as pd\n",
    "\n",
    "\n",
    "samp_size=100\n",
    "\n",
    "\n",
    "K_obs=np.exp(rd.normal(3,1,samp_size))\n",
    "\n",
    "\n",
    "df=pd.DataFrame({'N':np.exp(rd.normal(3,1,samp_size)), \n",
    "                 'K':np.exp(rd.normal(2,1,samp_size)), \n",
    "                 'Z':np.exp(rd.normal(0,1,samp_size))\n",
    "                })\n",
    "\n",
    "df['x']=df['Z']*df['N']**(rd.rand())*df['K']**(rd.rand())\n",
    "\n",
    "df\n"
   ]
  },
  {
   "cell_type": "markdown",
   "id": "9a74d5f3-e08f-4e31-8954-64ea856112b9",
   "metadata": {},
   "source": [
    "Her har vi laget 100 observasjoner på arbeidskraft og kapital (vi har også laget 100 observasjoner på Z som representerer \"støy\" i statistisk sammenheng). Så har vi generert et tall mellom 0 og 1 for a og et annet tall mellom 0 og 1 for b. Disse tallene har vi brukt for å lage produksjonsnivået x fra denne sammenhengen.         \n",
    "\n",
    "**NB denne koden genererer forskjellige data hver gang! Dersom vi vil at vårt arbeid skal være reproduserbart (dvs kunne verifiseres av andre med samme kode) må vi bruke en initialisering av `rd`. Dette gjøres med en \"seed\". Prøv å skrive rd.seed(10) i koden etter at du importerer pakkene i kodecellen ovenfor. Kjør cellen og noter deg dataene i første linje. Kjør cellen på nytt så bør du få samme data**      \n",
    "\n",
    "Vi kjenner ikke verdien på a og b og må estimere verdier for disse parametre. Vi begynner med å ta logaritmer av våre dataserier."
   ]
  },
  {
   "cell_type": "code",
   "execution_count": null,
   "id": "be4fcc85-0ab7-4a25-bcd8-22874e8d1b55",
   "metadata": {},
   "outputs": [],
   "source": [
    "df['lnN']=np.log(df['N'])\n",
    "df['lnK']=np.log(df['K'])\n",
    "df['lnZ']=np.log(df['Z'])\n",
    "df['lnx']=np.log(df['x'])\n",
    "\n",
    "df"
   ]
  },
  {
   "cell_type": "markdown",
   "id": "75ffde26-7b44-44ac-8295-9f2aa0bd37ef",
   "metadata": {},
   "source": [
    "Nå har vi det meste av det som inngår i likning (4). Vi skal bruke pakken `statsmodels` til å gjennomføre en enkel estimering (regresjon med OLS - Ordinary Least Squares)."
   ]
  },
  {
   "cell_type": "code",
   "execution_count": null,
   "id": "ed9561b7-6c3d-4935-b634-3c7b7fc0ee28",
   "metadata": {},
   "outputs": [],
   "source": [
    "import statsmodels.formula.api as smf\n",
    "\n",
    "mod = smf.ols(formula='lnx ~ lnN + lnK', data=df)\n",
    "res = mod.fit()\n",
    "print(res.summary())\n",
    "print(res.params)\n"
   ]
  },
  {
   "cell_type": "markdown",
   "id": "41e4a9f5-3eea-4f89-931d-fd852fa262ff",
   "metadata": {},
   "source": [
    "Legg merke til at `res.params` gir oss ei liste med koeffisienter nederst. lnZ er \"Intercept\" `res.params[0]`, a er `res.params[1]`, b er `res.params[2]`. Legg merke til at `res.params[0]`=ln Z. For å finne Z må vi skrive om $e^{lnZ}=e^{res.params[0]}$, dvs $Z=e^{res.params[0]}$. Vi kan bruke dette til å sette inn fra regresjonen i kostnadsfunksjon."
   ]
  },
  {
   "cell_type": "code",
   "execution_count": null,
   "id": "98dd1ca1-8458-4860-a99e-9961fc060c81",
   "metadata": {},
   "outputs": [],
   "source": [
    "Z_num=np.exp(res.params[0])\n",
    "print(\"Estimert Z er\",  Z_num)"
   ]
  },
  {
   "cell_type": "code",
   "execution_count": null,
   "id": "daf4e80b-9be4-4781-9939-7f4d1db2077c",
   "metadata": {},
   "outputs": [],
   "source": [
    "print(\"Estimert verdi på a er\", res.params[1])\n",
    "print(\"Estimert verdi på b er\", res.params[2])"
   ]
  },
  {
   "cell_type": "markdown",
   "id": "d3baaca6-0b5d-4945-91b5-80a51f042a8c",
   "metadata": {},
   "source": [
    "**Oppgave**       \n",
    "*Hvilke skalaegenskaper har denne produktfunksjonen?*"
   ]
  },
  {
   "cell_type": "markdown",
   "id": "f24e634f-4dd3-4335-add9-22df37a076e1",
   "metadata": {},
   "source": [
    "Nå kan vi beregne kostnadsfunksjonen til bedriften. La oss anta som før $w=350, r=500$. Vi kan tegne totalkostnad, gjennomsnittskostnad og grensekostnad."
   ]
  },
  {
   "cell_type": "code",
   "execution_count": null,
   "id": "b6831f20-10a9-4804-842b-efcb9bc16c80",
   "metadata": {},
   "outputs": [],
   "source": [
    "# definer funksjoner\n",
    "\n",
    "C=sp.lambdify(\n",
    "    (w, r,X,Z,a,b), \n",
    "    w*N_sol+r*K_sol\n",
    ")\n",
    "\n",
    "avgC=sp.lambdify(\n",
    "    (w, r,X,Z,a,b), \n",
    "    (w*N_sol+r*K_sol)/X\n",
    ")\n",
    "\n",
    "dC=sp.lambdify(\n",
    "    (w, r,X,Z,a,b), \n",
    "    sp.diff(w*N_sol+r*K_sol,X)\n",
    ")\n",
    "\n",
    "#sett inn verdier\n",
    "\n",
    "print(C(350,500,X,Z_num,res.params[1],res.params[2]))\n",
    "print(avgC(350,500,X,Z_num,res.params[1],res.params[2]))\n",
    "print(dC(350,500,X,Z_num,res.params[1],res.params[2]))"
   ]
  },
  {
   "cell_type": "code",
   "execution_count": null,
   "id": "74f5db07-ea51-4830-a4a3-62b6ffd43ca4",
   "metadata": {},
   "outputs": [],
   "source": [
    "X=np.linspace(0.001,10, 100)\n",
    "\n",
    "fig3, ax = plt.subplots()\n",
    "ax.set_ylabel('C (NOK)', loc='top')\n",
    "ax.set_xlabel('Produserte enheter', loc='right')\n",
    "ax.set(xlim=(0,10))\n",
    "ax.set(ylim=(0,3000))\n",
    "ax.spines['top'].set_color('none')\n",
    "ax.spines['right'].set_color('none')\n",
    "                \n",
    "\n",
    "# plott funksjonen her\n",
    "\n",
    "ax.plot(X,\n",
    "        C(350,500,X,Z_num,res.params[1],res.params[2])\n",
    "        ,label='Totalkostnad')\n",
    "ax.plot(X,\n",
    "        avgC(350,500,X,Z_num,res.params[1],res.params[2])\n",
    "        ,label='Gjennomsnittskostnad')\n",
    "ax.plot(X,\n",
    "        dC(350,500,X,Z_num,res.params[1],res.params[2])\n",
    "        ,label='Grensekostnad')\n",
    "\n",
    "\n",
    "# tittel\n",
    "ax.set_title('Kostnader for estimert produktfunksjon')\n",
    "\n",
    "#vis navnene:\n",
    "ax.legend(loc='best',frameon=False);\n",
    "\n"
   ]
  },
  {
   "cell_type": "markdown",
   "id": "52d6ff04-6d88-4e7f-acd8-bffd8822eb69",
   "metadata": {},
   "source": [
    "**Oppgave**        \n",
    "\n",
    "*Vi skal analysere årlig data fra Tesla på kapitalutgifter (USD), arbeidere, og antall biler laget i perioden 2012-2020.*    \n",
    "\n"
   ]
  },
  {
   "cell_type": "code",
   "execution_count": null,
   "id": "aee0e53a-83a0-4aa3-a098-9136d05a2565",
   "metadata": {},
   "outputs": [],
   "source": [
    "# last inn data\n",
    "\n",
    "df1=pd.read_csv(\"https://raw.githubusercontent.com/uit-sok-1006-v24/uit-sok-1006-v24.github.io/main/tesladata.csv\",delimiter=\";\")\n",
    "\n",
    "\n",
    "df1\n"
   ]
  },
  {
   "cell_type": "markdown",
   "id": "187b69b2-466f-4338-87eb-ca971e758ae6",
   "metadata": {},
   "source": [
    "*a) Plott disse seriene i en figur med tid på den horisontale aksen.*   \n"
   ]
  },
  {
   "cell_type": "code",
   "execution_count": null,
   "id": "67728958-0229-4402-b68e-d0d9f93f3367",
   "metadata": {},
   "outputs": [],
   "source": [
    "# skriv svaret ditt her"
   ]
  },
  {
   "cell_type": "markdown",
   "id": "b29540ca-7370-46bd-a552-b9f54602527e",
   "metadata": {},
   "source": [
    "*Anta at produktfunksjonen for Tesla er som gitt i (3) ovenfor. Vi skal undersøke skalaegenskaper til Teslas produktfunksjon. I forelesning 8 (paperet om Kina) så vi at man kunne estimere følgende likning for å undersøke dette:*\n",
    "\n",
    "\\begin{equation}\n",
    "  ln (\\frac{x}{N}) = ln Z + (a+b-1)\\;ln N + b\\; ln (\\frac{K}{N})\\tag{5}\n",
    "\\end{equation}\n",
    "\n",
    "*Kjør følgende kode for å estimere denne likningen:*"
   ]
  },
  {
   "cell_type": "code",
   "execution_count": null,
   "id": "8c1a358e-291d-49a4-b531-1db69afff926",
   "metadata": {},
   "outputs": [],
   "source": [
    "# Vi skal estimere ln(xperN) = konstant + (a+b-1)ln(N) +bln(KperN)\n",
    "\n",
    "# Vi er interessert i om a+b-1 er statistisk annerledes enn 0.\n",
    "\n",
    "# I tabellen se på t verdien på ln(N), er dette over 2 kan vi konkludere med at koeffisienten ikke er null.\n",
    "\n",
    "# Generer variablene: husk at ln(x/N)=ln(x)-ln(N) osv\n",
    "df1['lnN']=np.log(df1['Arbeidere'])\n",
    "df1['lnKperN']=np.log(df1['CAPEX'])-df1['lnN']\n",
    "df1['lnxperN']=np.log(df1['Produksjon'])-df1['lnN']\n",
    "\n",
    "# Estimer ved hjelp av ols.\n",
    "\n",
    "mod = smf.ols(formula='lnxperN ~ lnN + lnKperN', data=df1)\n",
    "res = mod.fit()\n",
    "print(res.summary())"
   ]
  },
  {
   "cell_type": "markdown",
   "id": "848f0345-7594-486f-a494-a673bc584edd",
   "metadata": {},
   "source": [
    "*b) Hva viser din analyse om skalautbytte til Tesla?*    \n",
    "*c) Er du fornøyd med resultatene fra analysen, eller er det noe som ikke ser helt riktig ut?*    \n",
    "*d) Er ditt resultat forenelig med [denne analysen](https://cleantechnica.com/2018/07/22/peeking-behind-teslas-cost-of-materials-curtain/) av Tesla sine kostnader?*   \n",
    "*e) Gitt denne analysen hvilke andre variabler bør inkluderes i (3), og hvordan vil den nye produktfunksjonen se ut (gitt at den er Cobb-Douglas)?* "
   ]
  },
  {
   "cell_type": "code",
   "execution_count": null,
   "id": "38b08f78-d893-4cb6-a24a-53d02b7881f7",
   "metadata": {},
   "outputs": [],
   "source": [
    "# Skriv ditt svar her"
   ]
  }
 ],
 "metadata": {
  "kernelspec": {
   "display_name": "Python 3 (ipykernel)",
   "language": "python",
   "name": "python3"
  },
  "language_info": {
   "codemirror_mode": {
    "name": "ipython",
    "version": 3
   },
   "file_extension": ".py",
   "mimetype": "text/x-python",
   "name": "python",
   "nbconvert_exporter": "python",
   "pygments_lexer": "ipython3",
   "version": "3.9.18"
  }
 },
 "nbformat": 4,
 "nbformat_minor": 5
}
